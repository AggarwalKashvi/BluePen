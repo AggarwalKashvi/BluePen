{
 "cells": [
  {
   "cell_type": "code",
   "execution_count": null,
   "id": "03ccd132",
   "metadata": {},
   "outputs": [],
   "source": [
    "from tkinter import *\n",
    "from tkinter import ttk\n",
    "from googletrans import Translator, LANGUAGES\n",
    "\n",
    "root=Tk()\n",
    "root.geometry('1100x320')\n",
    "root.resizable(0,0)\n",
    "root['bg']='lavender'\n",
    "root.title('language translator by AlphaQ')\n",
    "\n",
    "Label(root,text='Language Translator',font='Jokerman 20 italic bold').pack()\n",
    "Label(root,text='Enter text: ',font='arial 13 bold',bg='white smoke').place(x=165,y=90)\n",
    "input_text=Entry(root,width=60)\n",
    "input_text.place(x=30,y=130)\n",
    "input_text.get()\n",
    "\n",
    "Label(root,text='Output',font='arial 13 bold',bg='white smoke').place(x=700,y=90)\n",
    "output_text= Text(root,font='arial 10',height=11,wrap=WORD,padx=5,pady=5,width=50)\n",
    "output_text.place(x=600,y=130)\n",
    "language=list(LANGUAGES.values())\n",
    "\n",
    "dest_lang=ttk.Combobox(root,values=language,width=22)\n",
    "dest_lang.place(x=130,y=180)\n",
    "dest_lang.set('choose language') \n",
    "\n",
    "def Translate():\n",
    "    translator=Translator()\n",
    "    translated=translator.translate(text=input_text.get(),dest=dest_lang.get())\n",
    "    output_text.delete(1.0,END)\n",
    "    output_text.insert(END,translated.text)\n",
    "trans_btn=Button(root,text='Translate',font='arial 12 bold',pady=5,command=Translate,bg='orange',activebackground='green')\n",
    "trans_btn.place(x=445,y=180)\n",
    "\n",
    "root.mainloop()"
   ]
  }
 ],
 "metadata": {
  "kernelspec": {
   "display_name": "Python 3 (ipykernel)",
   "language": "python",
   "name": "python3"
  },
  "language_info": {
   "codemirror_mode": {
    "name": "ipython",
    "version": 3
   },
   "file_extension": ".py",
   "mimetype": "text/x-python",
   "name": "python",
   "nbconvert_exporter": "python",
   "pygments_lexer": "ipython3",
   "version": "3.11.5"
  }
 },
 "nbformat": 4,
 "nbformat_minor": 5
}
